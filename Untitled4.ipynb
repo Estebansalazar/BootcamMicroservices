{
  "nbformat": 4,
  "nbformat_minor": 0,
  "metadata": {
    "colab": {
      "name": "Untitled4.ipynb",
      "version": "0.3.2",
      "provenance": [],
      "include_colab_link": true
    },
    "kernelspec": {
      "name": "python3",
      "display_name": "Python 3"
    }
  },
  "cells": [
    {
      "cell_type": "markdown",
      "metadata": {
        "id": "view-in-github",
        "colab_type": "text"
      },
      "source": [
        "<a href=\"https://colab.research.google.com/github/Estebansalazar/BootcamMicroservices/blob/master/Untitled4.ipynb\" target=\"_parent\"><img src=\"https://colab.research.google.com/assets/colab-badge.svg\" alt=\"Open In Colab\"/></a>"
      ]
    },
    {
      "cell_type": "code",
      "metadata": {
        "id": "l9woPvXdVCEk",
        "colab_type": "code",
        "colab": {}
      },
      "source": [
        "fdsfds "
      ],
      "execution_count": 0,
      "outputs": []
    },
    {
      "cell_type": "code",
      "metadata": {
        "id": "qBP8d6VHVwkk",
        "colab_type": "code",
        "colab": {}
      },
      "source": [
        "retert"
      ],
      "execution_count": 0,
      "outputs": []
    }
  ]
}